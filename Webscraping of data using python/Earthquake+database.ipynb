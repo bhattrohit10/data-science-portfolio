{
 "cells": [
  {
   "cell_type": "code",
   "execution_count": 1,
   "metadata": {
    "collapsed": true
   },
   "outputs": [],
   "source": [
    "import urllib.request\n",
    "import json\n",
    "import pandas as pd"
   ]
  },
  {
   "cell_type": "code",
   "execution_count": 2,
   "metadata": {
    "collapsed": true
   },
   "outputs": [],
   "source": [
    "url='https://earthquake.usgs.gov/fdsnws/event/1/query?format=geojson&starttime=2016-10-01&endtime=2016-10-02'\n"
   ]
  },
  {
   "cell_type": "code",
   "execution_count": 3,
   "metadata": {
    "collapsed": true
   },
   "outputs": [],
   "source": [
    "response=urllib.request.urlopen(url)\n"
   ]
  },
  {
   "cell_type": "code",
   "execution_count": 4,
   "metadata": {
    "collapsed": true
   },
   "outputs": [],
   "source": [
    "dict_data=json.load(response)"
   ]
  },
  {
   "cell_type": "code",
   "execution_count": 151,
   "metadata": {},
   "outputs": [
    {
     "name": "stdout",
     "output_type": "stream",
     "text": [
      "<class 'list'>\n",
      "306\n",
      "<class 'dict'>\n"
     ]
    }
   ],
   "source": [
    "#print (type(dict_data))\n",
    "#print (dict_data['features'][0])\n",
    "\n",
    "print (type(dict_data['features']))\n",
    "\n",
    "print (len(dict_data['features']))\n",
    "\n",
    "print (type(dict_data['features'][0]))"
   ]
  },
  {
   "cell_type": "code",
   "execution_count": 160,
   "metadata": {
    "collapsed": true
   },
   "outputs": [],
   "source": [
    "def json_to_dataframe(dict_data):\n",
    "    # For Magnitude\n",
    "    feat_proper_mag=[]\n",
    "    for k in dict_data:\n",
    "        if k=='features':\n",
    "            #print (k)\n",
    "            p=0\n",
    "            while(p<(len(dict_data['features']))):\n",
    "                #print (p)\n",
    "                for j in dict_data[k][p]:\n",
    "                    #print (j)\n",
    "                    if j=='properties':\n",
    "                        #print (dict_data[k][p][j])\n",
    "                        for a in dict_data[k][p][j]:\n",
    "                            if a=='mag':\n",
    "                                #print (a,dict_data[k][p][j][a])\n",
    "                                feat_proper_mag.append(dict_data[k][p][j][a])\n",
    "                                #print(feat_proper_mag)                            \n",
    "                p+=1\n",
    "    #print (feat_proper_mag)\n",
    "    df_mag=pd.DataFrame(feat_proper_mag,columns=['mag'])\n",
    "    #print (df_mag)\n",
    "    \n",
    "    \n",
    "    \n",
    "    # For place\n",
    "    feat_proper_place=[]  \n",
    "    for k in dict_data:\n",
    "        if k=='features':\n",
    "            #print (k)\n",
    "            p=0\n",
    "            while(p<(len(dict_data['features']))):\n",
    "                #print (p)\n",
    "                for j in dict_data[k][p]:\n",
    "                    #print (j)\n",
    "                    if j=='properties':\n",
    "                        #print (dict_data[k][p][j])\n",
    "                        for a in dict_data[k][p][j]:\n",
    "                            if a=='place':\n",
    "                                #print (a,dict_data[k][p][j][a])\n",
    "                                feat_proper_place.append(dict_data[k][p][j][a])\n",
    "                                #print(feat_proper_place)              \n",
    "                p+=1\n",
    "    #print ((feat_proper_place)\n",
    "    df_place=pd.DataFrame(feat_proper_place,columns=['place'])\n",
    "    #print (df_place)\n",
    "    \n",
    "    \n",
    "    \n",
    "    \n",
    "    # For title\n",
    "    feat_proper_title=[]\n",
    "    for k in dict_data:\n",
    "        if k=='features':\n",
    "            #print (k)\n",
    "            p=0\n",
    "            while(p<(len(dict_data['features']))):\n",
    "                #print (p)\n",
    "                for j in dict_data[k][p]:\n",
    "                    #print (j)\n",
    "                    if j=='properties':\n",
    "                        #print (dict_data[k][p][j])\n",
    "                        for a in dict_data[k][p][j]:\n",
    "                            if a=='title':\n",
    "                                #print (a,dict_data[k][p][j][a])\n",
    "                                feat_proper_title.append(dict_data[k][p][j][a])\n",
    "                                #print(feat_proper_place)          \n",
    "                p+=1\n",
    "    #print (feat_proper_title)\n",
    "    df_title=pd.DataFrame(feat_proper_title,columns=['title'])\n",
    "    #print (df_title)\n",
    "    \n",
    "    \n",
    "    \n",
    "    \n",
    "    #For lat\n",
    "    feat_geo_lat=[]\n",
    "    for k in dict_data:\n",
    "        if k=='features':\n",
    "            #print (k)\n",
    "             \n",
    "            p=0\n",
    "            while(p<(len(dict_data['features']))):\n",
    "                #print (p)\n",
    "                for j in dict_data[k][p]:\n",
    "                    #print (j)        \n",
    "                    if j=='geometry':\n",
    "                        #print (dict_data[k][p][j])\n",
    "                        for b in dict_data[k][p][j]:\n",
    "                            if b=='coordinates':\n",
    "                                #print (len(dict_data[k][p][j][b])) \n",
    "                                feat_geo_lat.append(dict_data[k][p][j][b][0])\n",
    "                                #print (feat_geo_lat)\n",
    "                p+=1\n",
    "    #print (feat_geo_lat)\n",
    "    df_lat=pd.DataFrame(feat_geo_lat,columns=['lat'])\n",
    "    #print (df_lat)\n",
    "    \n",
    "    \n",
    "    \n",
    "    \n",
    "    # For long\n",
    "    feat_geo_long=[]\n",
    "    for k in dict_data:\n",
    "        if k=='features':\n",
    "            #print (k)     \n",
    "            p=0\n",
    "            while(p<(len(dict_data['features']))):\n",
    "                #print (p)\n",
    "                for j in dict_data[k][p]:\n",
    "                    #print (j)        \n",
    "                    if j=='geometry':\n",
    "                        #print (dict_data[k][p][j])\n",
    "                        for b in dict_data[k][p][j]:\n",
    "                            if b=='coordinates':\n",
    "                                #print (len(dict_data[k][p][j][b])) \n",
    "                                feat_geo_long.append(dict_data[k][p][j][b][1])\n",
    "                                #print (feat_geo_long)\n",
    "                p+=1\n",
    "    #print (feat_geo_long)\n",
    "    df_long=pd.DataFrame(feat_geo_long,columns=['long'])\n",
    "    #print (df_long)\n",
    "    \n",
    "    \n",
    "    \n",
    "    \n",
    "    \n",
    "    # Merging dataframe\n",
    "    df=pd.concat([df_mag,df_place,df_title,df_lat,df_long],axis=1)\n",
    "    #print (df)\n",
    "    \n",
    "    \n",
    "    # converting file into csv \n",
    "    \n",
    "    #df.to_csv('out2.csv',index=False)\n",
    "    \n",
    "    "
   ]
  },
  {
   "cell_type": "code",
   "execution_count": 161,
   "metadata": {},
   "outputs": [
    {
     "name": "stdout",
     "output_type": "stream",
     "text": [
      "6\n"
     ]
    }
   ],
   "source": [
    "json_to_dataframe(dict_data)\n"
   ]
  },
  {
   "cell_type": "code",
   "execution_count": null,
   "metadata": {
    "collapsed": true
   },
   "outputs": [],
   "source": []
  }
 ],
 "metadata": {
  "kernelspec": {
   "display_name": "Python 3",
   "language": "python",
   "name": "python3"
  },
  "language_info": {
   "codemirror_mode": {
    "name": "ipython",
    "version": 3
   },
   "file_extension": ".py",
   "mimetype": "text/x-python",
   "name": "python",
   "nbconvert_exporter": "python",
   "pygments_lexer": "ipython3",
   "version": "3.6.2"
  },
  "varInspector": {
   "cols": {
    "lenName": 16,
    "lenType": 16,
    "lenVar": 40
   },
   "kernels_config": {
    "python": {
     "delete_cmd_postfix": "",
     "delete_cmd_prefix": "del ",
     "library": "var_list.py",
     "varRefreshCmd": "print(var_dic_list())"
    },
    "r": {
     "delete_cmd_postfix": ") ",
     "delete_cmd_prefix": "rm(",
     "library": "var_list.r",
     "varRefreshCmd": "cat(var_dic_list()) "
    }
   },
   "types_to_exclude": [
    "module",
    "function",
    "builtin_function_or_method",
    "instance",
    "_Feature"
   ],
   "window_display": false
  }
 },
 "nbformat": 4,
 "nbformat_minor": 2
}
